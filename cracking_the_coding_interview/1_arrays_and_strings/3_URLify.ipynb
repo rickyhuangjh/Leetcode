{
 "cells": [
  {
   "cell_type": "code",
   "execution_count": 5,
   "metadata": {},
   "outputs": [
    {
     "name": "stdout",
     "output_type": "stream",
     "text": [
      "Mr%20John%20Smith\n"
     ]
    }
   ],
   "source": [
    "# URLify: Write a method to replace all spaces in a string with '%20'. You may assume that the string\n",
    "# has sufficient space at the end to hold the additional characters, and that you are given the \"true\"\n",
    "# length of the string. (Note: If implementing in Java, please use a character array so that you can\n",
    "# perform this operation in place.)\n",
    "\n",
    "# Easy solution uses O(n) extra space\n",
    "\n",
    "# First thoughts: \n",
    "# Number of spaces\n",
    "# Last word moves over k * 2\n",
    "# 2nd last word moves over (k - 1) * 2\n",
    "# ...\n",
    "# First word stays in place\n",
    "# Must go from end to front to avoid overwriting string\n",
    "\n",
    "def URLify(s: str) -> str:\n",
    "    url_list = []\n",
    "    for c in s:\n",
    "        if c == \" \":\n",
    "            url_list.append(\"%20\")\n",
    "        else:\n",
    "            url_list.append(c)\n",
    "    return \"\".join(url_list)\n",
    "print(URLify(\"Mr John Smith\"))"
   ]
  }
 ],
 "metadata": {
  "kernelspec": {
   "display_name": "Python 3",
   "language": "python",
   "name": "python3"
  },
  "language_info": {
   "codemirror_mode": {
    "name": "ipython",
    "version": 3
   },
   "file_extension": ".py",
   "mimetype": "text/x-python",
   "name": "python",
   "nbconvert_exporter": "python",
   "pygments_lexer": "ipython3",
   "version": "3.11.4"
  },
  "orig_nbformat": 4
 },
 "nbformat": 4,
 "nbformat_minor": 2
}
