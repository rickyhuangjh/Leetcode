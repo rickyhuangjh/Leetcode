{
 "cells": [
  {
   "cell_type": "code",
   "execution_count": 2,
   "metadata": {},
   "outputs": [
    {
     "name": "stdout",
     "output_type": "stream",
     "text": [
      "False\n",
      "True\n",
      "True\n"
     ]
    }
   ],
   "source": [
    "# Is Unique: Implement an algorithm to determine if a string has all unique characters. What if you\n",
    "# cannot use additional data structures? \n",
    "\n",
    "# We want to look up -> use hashmap (dictionary)\n",
    "\n",
    "def is_unique(s : str) -> bool:\n",
    "    freq = {}\n",
    "    for c in s:\n",
    "        if c in freq:\n",
    "            return False\n",
    "        freq[c] = 1\n",
    "    return True\n",
    "\n",
    "print(is_unique(\"hello\"))\n",
    "print(is_unique(\"abcdefghi\"))\n",
    "print(is_unique(\"\"))"
   ]
  }
 ],
 "metadata": {
  "kernelspec": {
   "display_name": "Python 3",
   "language": "python",
   "name": "python3"
  },
  "language_info": {
   "codemirror_mode": {
    "name": "ipython",
    "version": 3
   },
   "file_extension": ".py",
   "mimetype": "text/x-python",
   "name": "python",
   "nbconvert_exporter": "python",
   "pygments_lexer": "ipython3",
   "version": "3.11.4"
  },
  "orig_nbformat": 4
 },
 "nbformat": 4,
 "nbformat_minor": 2
}
