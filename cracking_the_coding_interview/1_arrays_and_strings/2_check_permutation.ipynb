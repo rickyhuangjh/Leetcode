{
 "cells": [
  {
   "cell_type": "code",
   "execution_count": 7,
   "metadata": {},
   "outputs": [
    {
     "name": "stdout",
     "output_type": "stream",
     "text": [
      "True\n",
      "False\n"
     ]
    }
   ],
   "source": [
    "# Check Permutation: Given two strings, write a method to\n",
    "# decide if one is a permutation of the other.\n",
    "\n",
    "# Want to look up -> use hashmap\n",
    "\n",
    "def check_permutation(s1: str, s2: str) -> bool:\n",
    "    letters1 = {}\n",
    "    for c in s1:\n",
    "        if c not in letters1:\n",
    "            letters1[c] = 0\n",
    "        letters1[c] += 1\n",
    "    for c in s2:\n",
    "        if c not in letters1:\n",
    "            return False\n",
    "        if letters1[c] == 0:\n",
    "            return False\n",
    "        letters1[c] -= 1\n",
    "    \n",
    "    leftover = letters1.values()\n",
    "    for freq in leftover:\n",
    "        if freq != 0:\n",
    "            return False\n",
    "    return True\n",
    "\n",
    "print(check_permutation(\"abmdefghijklcnopqrstuvwxyz\", \"abcdefghijklmnopqrstuvwxyz\"))\n",
    "print(check_permutation(\"acbadfsa\", \"asfasf\"))"
   ]
  }
 ],
 "metadata": {
  "kernelspec": {
   "display_name": "Python 3",
   "language": "python",
   "name": "python3"
  },
  "language_info": {
   "codemirror_mode": {
    "name": "ipython",
    "version": 3
   },
   "file_extension": ".py",
   "mimetype": "text/x-python",
   "name": "python",
   "nbconvert_exporter": "python",
   "pygments_lexer": "ipython3",
   "version": "3.11.4"
  },
  "orig_nbformat": 4
 },
 "nbformat": 4,
 "nbformat_minor": 2
}
